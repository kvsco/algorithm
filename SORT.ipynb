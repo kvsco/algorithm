{
 "cells": [
  {
   "cell_type": "code",
   "execution_count": 2,
   "id": "8ccbf606",
   "metadata": {
    "ExecuteTime": {
     "end_time": "2024-05-25T11:35:08.002059Z",
     "start_time": "2024-05-25T11:35:07.998725Z"
    }
   },
   "outputs": [],
   "source": [
    "import random"
   ]
  },
  {
   "cell_type": "markdown",
   "id": "b9f4fd67",
   "metadata": {},
   "source": [
    "## insertion sort"
   ]
  },
  {
   "cell_type": "code",
   "execution_count": 250,
   "id": "fcbe78fe",
   "metadata": {
    "ExecuteTime": {
     "end_time": "2024-05-25T13:05:54.877334Z",
     "start_time": "2024-05-25T13:05:54.869553Z"
    }
   },
   "outputs": [
    {
     "name": "stdout",
     "output_type": "stream",
     "text": [
      "before list : [57, 67, 48, 74, 1, 68, 71, 35, 68, 31, 63, 43, 92, 34, 86, 74, 75, 36, 95, 99]\n",
      "Sorted list: [1, 31, 34, 35, 36, 43, 48, 57, 63, 67, 68, 68, 71, 74, 74, 75, 86, 92, 95, 99]\n"
     ]
    }
   ],
   "source": [
    "import random\n",
    "\n",
    "random_list = [random.randint(1, 100) for _ in range(20)]\n",
    "print(f\"before list : {random_list}\")\n",
    "\n",
    "for i in range(1, len(random_list)):\n",
    "    key = random_list[i]\n",
    "    j = i - 1  # 이전 요소의 인덱스\n",
    "\n",
    "    while j >= 0 and random_list[j] > key:\n",
    "        random_list[j +1] = random_list[j]\n",
    "        j = j - 1\n",
    "    random_list[j + 1] = key\n",
    "\n",
    "print(f\"Sorted list: {random_list}\")\n"
   ]
  },
  {
   "cell_type": "markdown",
   "id": "55545a7e",
   "metadata": {},
   "source": [
    "insertion sort time complexity : O(n)"
   ]
  },
  {
   "cell_type": "markdown",
   "id": "6ee78468",
   "metadata": {},
   "source": [
    "## merge sort"
   ]
  },
  {
   "cell_type": "code",
   "execution_count": 251,
   "id": "c307c5ff",
   "metadata": {
    "ExecuteTime": {
     "end_time": "2024-05-25T13:05:57.949332Z",
     "start_time": "2024-05-25T13:05:57.939135Z"
    }
   },
   "outputs": [
    {
     "name": "stdout",
     "output_type": "stream",
     "text": [
      "before list: [91, 2, 30, 54, 6, 29, 9, 15, 69, 34, 35, 93, 95, 36, 91, 29, 97, 79, 99, 19]\n",
      "Sorted list: [2, 6, 9, 15, 19, 29, 29, 30, 34, 35, 36, 54, 69, 79, 91, 91, 93, 95, 97, 99]\n"
     ]
    }
   ],
   "source": [
    "random_list = [random.randint(1, 100) for _ in range(20)]\n",
    "print(f\"before list: {random_list}\")\n",
    "merge_sort(random_list)\n",
    "\n",
    "def merge_sort(arr):\n",
    "    if len(arr) > 1:\n",
    "        mid = len(arr) // 2  # devide\n",
    "        left_half = arr[:mid]\n",
    "        right_half = arr[mid:]\n",
    "\n",
    "        merge_sort(left_half)  # recursive conquer\n",
    "        merge_sort(right_half)  # recursive conquer\n",
    "\n",
    "        i = j = k = 0\n",
    "\n",
    "        # combine\n",
    "        while i < len(left_half) and j < len(right_half):\n",
    "            if left_half[i] < right_half[j]:\n",
    "                arr[k] = left_half[i]\n",
    "                i += 1\n",
    "            else:\n",
    "                arr[k] = right_half[j]\n",
    "                j += 1\n",
    "            k += 1\n",
    "\n",
    "        # sorting\n",
    "        while i < len(left_half):\n",
    "            arr[k] = left_half[i]\n",
    "            i += 1\n",
    "            k += 1\n",
    "\n",
    "        while j < len(right_half):\n",
    "            arr[k] = right_half[j]\n",
    "            j += 1\n",
    "            k += 1\n",
    "\n",
    "print(f\"Sorted list: {random_list}\")"
   ]
  },
  {
   "cell_type": "markdown",
   "id": "e1d31aa2",
   "metadata": {
    "ExecuteTime": {
     "end_time": "2024-05-25T13:07:06.446834Z",
     "start_time": "2024-05-25T13:07:06.442317Z"
    }
   },
   "source": [
    "merge sort time complexity : O(n log n)"
   ]
  },
  {
   "cell_type": "code",
   "execution_count": null,
   "id": "0fd61e63",
   "metadata": {},
   "outputs": [],
   "source": []
  }
 ],
 "metadata": {
  "hide_input": false,
  "kernelspec": {
   "display_name": "Python 3 (ipykernel)",
   "language": "python",
   "name": "python3"
  },
  "language_info": {
   "codemirror_mode": {
    "name": "ipython",
    "version": 3
   },
   "file_extension": ".py",
   "mimetype": "text/x-python",
   "name": "python",
   "nbconvert_exporter": "python",
   "pygments_lexer": "ipython3",
   "version": "3.9.1"
  },
  "toc": {
   "base_numbering": 1,
   "nav_menu": {},
   "number_sections": true,
   "sideBar": true,
   "skip_h1_title": false,
   "title_cell": "Table of Contents",
   "title_sidebar": "Contents",
   "toc_cell": false,
   "toc_position": {},
   "toc_section_display": true,
   "toc_window_display": false
  },
  "varInspector": {
   "cols": {
    "lenName": 16,
    "lenType": 16,
    "lenVar": 40
   },
   "kernels_config": {
    "python": {
     "delete_cmd_postfix": "",
     "delete_cmd_prefix": "del ",
     "library": "var_list.py",
     "varRefreshCmd": "print(var_dic_list())"
    },
    "r": {
     "delete_cmd_postfix": ") ",
     "delete_cmd_prefix": "rm(",
     "library": "var_list.r",
     "varRefreshCmd": "cat(var_dic_list()) "
    }
   },
   "types_to_exclude": [
    "module",
    "function",
    "builtin_function_or_method",
    "instance",
    "_Feature"
   ],
   "window_display": false
  }
 },
 "nbformat": 4,
 "nbformat_minor": 5
}
